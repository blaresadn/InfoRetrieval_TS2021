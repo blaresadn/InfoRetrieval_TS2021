{
 "cells": [
  {
   "cell_type": "markdown",
   "metadata": {},
   "source": [
    "# ** Описание **"
   ]
  },
  {
   "cell_type": "raw",
   "metadata": {},
   "source": [
    "Построить графики распределения в спам и не спам множествах следующих признаков:\n",
    "\n",
    "1\tКоличество слов на странице\n",
    "2\tСредняя длинна слова\n",
    "3\tКоличество слов в заголовке страниц (слова в теге <html><head><title> Some text </title>)\n",
    "4\tКоличество слов в анкорах ссылок (<html><body><a> Some text </a>)\n",
    "5\tКоэффициент сжатия\n",
    "\n",
    "Нужно посчитать статистику минимум по трем признакам и обязательно сделать для 1-го и 2-го признаков\n",
    "\n",
    "И отправить первое решение в соревнование https://www.kaggle.com/c/antispam-information-retrieval/\n",
    "На основании одного из указанных выше признаков попытаться разделить мн-во, так чтобы score в соревновании был больше 0.55\n",
    "\n",
    "При выполнении всех этих условия в течении семинара +1 балл к ДЗ\n",
    "\n",
    "Описание ДЗ и правил выставления за него баллов в https://www.kaggle.com/c/antispam-information-retrieval/  \n",
    "Сроки ДЗ уточнить у преподователя - обычно 2 недели"
   ]
  },
  {
   "cell_type": "code",
   "execution_count": 1,
   "metadata": {},
   "outputs": [],
   "source": [
    "from __future__ import division\n",
    "\n",
    "import base64\n",
    "import csv\n",
    "import gzip\n",
    "import zlib\n",
    "\n",
    "from collections import namedtuple\n",
    "\n",
    "%matplotlib inline\n",
    "import matplotlib.pyplot as plt"
   ]
  },
  {
   "cell_type": "code",
   "execution_count": 2,
   "metadata": {},
   "outputs": [],
   "source": [
    "TRACE_NUM = 1000\n",
    "import logging\n",
    "import importlib\n",
    "importlib.reload(logging)\n",
    "logging.basicConfig(format='%(asctime)s %(levelname)s:%(message)s', level=logging.INFO, datefmt='%H:%M:%S')\n",
    "\n",
    "def trace(items_num, trace_num=TRACE_NUM):\n",
    "    if items_num % trace_num == 0: logging.info(\"Complete items %05d\" % items_num)\n",
    "        \n",
    "def trace_worker(items_num, worker_id, trace_num=TRACE_NUM):\n",
    "    if items_num % trace_num == 0: logging.info(\"Complete items %05d in worker_id %d\" % (items_num, worker_id))"
   ]
  },
  {
   "cell_type": "markdown",
   "metadata": {},
   "source": [
    "### Утилиты"
   ]
  },
  {
   "cell_type": "markdown",
   "metadata": {},
   "source": [
    "#### Декораторы"
   ]
  },
  {
   "cell_type": "code",
   "execution_count": 3,
   "metadata": {},
   "outputs": [],
   "source": [
    "# def to_utf8(text):\n",
    "#     if isinstance(text, unicode): text = text.encode('utf8')\n",
    "#     return text\n",
    "\n",
    "# def convert2unicode(f):\n",
    "#     def tmp(text):\n",
    "#         if not isinstance(text, unicode): text = text.decode('utf8')\n",
    "#         return f(text)\n",
    "#     return tmp\n",
    "\n",
    "# def convert2lower(f):\n",
    "#     def tmp(text):        \n",
    "#         return f(text.lower())\n",
    "#     return tmp\n",
    "\n",
    "# #P.S. Декораторы могут усложнять отладку, так что от них вполне можно отказаться и воспользоваться copy-paste"
   ]
  },
  {
   "cell_type": "markdown",
   "metadata": {},
   "source": [
    "### Извлечение текста из html"
   ]
  },
  {
   "cell_type": "markdown",
   "metadata": {},
   "source": [
    "#### Извлечение текста при помощи встроенных модулей"
   ]
  },
  {
   "cell_type": "code",
   "execution_count": 4,
   "metadata": {},
   "outputs": [],
   "source": [
    "from html.parser import HTMLParser\n",
    "import re\n",
    "\n",
    "###Извлечение текста из title можно вписать сюда\n",
    "\n",
    "class TextHTMLParser(HTMLParser):\n",
    "    def __init__(self):\n",
    "        HTMLParser.__init__(self)\n",
    "        self._text = []\n",
    "        self._title = \"\"\n",
    "        self._in_title = False\n",
    "\n",
    "    def handle_data(self, data):\n",
    "        text = data.strip()\n",
    "        if len(text) > 0:\n",
    "            text = re.sub('[ \\t\\r\\n]+', ' ', text)\n",
    "            self._text.append(text + ' ')\n",
    "\n",
    "    def handle_starttag(self, tag, attrs):\n",
    "        if tag == 'p':\n",
    "            self._text.append('\\n\\n')\n",
    "        elif tag == 'br':\n",
    "            self._text.append('\\n')\n",
    "        elif tag == 'title':\n",
    "            self._in_title = True\n",
    "\n",
    "    def handle_startendtag(self, tag, attrs):\n",
    "        if tag == 'br':\n",
    "            self._text.append('\\n\\n')\n",
    "\n",
    "    def text(self):\n",
    "        return ''.join(self._text).strip()\n",
    "\n",
    "def html2text_parser(text):\n",
    "    parser = TextHTMLParser()\n",
    "    parser.feed(text)\n",
    "    return parser.text()"
   ]
  },
  {
   "cell_type": "markdown",
   "metadata": {},
   "source": [
    "#### Извлечение текста при помощи дополнительных библиотек"
   ]
  },
  {
   "cell_type": "code",
   "execution_count": 5,
   "metadata": {},
   "outputs": [],
   "source": [
    "def html2text_bs(raw_html):\n",
    "    from bs4 import BeautifulSoup\n",
    "    \"\"\"\n",
    "    Тут производится извлечения из html текста\n",
    "    \"\"\"\n",
    "    soup = BeautifulSoup(raw_html, \"html.parser\")\n",
    "    [s.extract() for s in soup(['script', 'style'])]\n",
    "    return soup.get_text()\n",
    "\n",
    "def html2text_bs_visible(raw_html):\n",
    "    from bs4 import BeautifulSoup\n",
    "    \"\"\"\n",
    "    Тут производится извлечения из html текста, который видим пользователю\n",
    "    \"\"\"\n",
    "    soup = BeautifulSoup(raw_html, \"html.parser\")    \n",
    "    [s.extract() for s in soup(['style', 'script', '[document]', 'head', 'title'])]\n",
    "    return soup.get_text()\n",
    "\n",
    "def html2text_boilerpipe(raw_html):\n",
    "    import boilerpipe\n",
    "    \"\"\"\n",
    "    еще одна библиотека очень хорошо извлекающая именно видимый пользователю текст,\n",
    "    но она завязана на java\n",
    "    \"\"\"\n",
    "    pass"
   ]
  },
  {
   "cell_type": "markdown",
   "metadata": {},
   "source": [
    "#### Выбираем какой метод для конвертации html в текст будет основным"
   ]
  },
  {
   "cell_type": "code",
   "execution_count": 6,
   "metadata": {},
   "outputs": [],
   "source": [
    "#html2text = html2text_bs\n",
    "html2text = html2text_parser"
   ]
  },
  {
   "cell_type": "markdown",
   "metadata": {},
   "source": [
    "#### Методы для токенизации текста"
   ]
  },
  {
   "cell_type": "code",
   "execution_count": 971,
   "metadata": {},
   "outputs": [
    {
     "name": "stderr",
     "output_type": "stream",
     "text": [
      "[nltk_data] Downloading package stopwords to\n",
      "[nltk_data]     /Users/camila/nltk_data...\n",
      "[nltk_data]   Package stopwords is already up-to-date!\n"
     ]
    }
   ],
   "source": [
    "def easy_tokenizer(text):\n",
    "    word = str()\n",
    "    for symbol in text:\n",
    "        if symbol.isalnum(): word += symbol\n",
    "        elif word:\n",
    "            yield word\n",
    "            word = str()\n",
    "    if word: yield word\n",
    "\n",
    "PYMORPHY_CACHE = {}\n",
    "MORPH = None\n",
    "#hint, чтобы установка pymorphy2 не была бы обязательной\n",
    "def get_lemmatizer():\n",
    "    import pymorphy2\n",
    "    global MORPH\n",
    "    if MORPH is None: MORPH = pymorphy2.MorphAnalyzer()\n",
    "    return MORPH\n",
    "\n",
    "def pymorphy_tokenizer(text):\n",
    "    global PYMORPHY_CACHE\n",
    "    for word in easy_tokenizer(text):\n",
    "        word_hash = hash(word)\n",
    "        if word_hash not in PYMORPHY_CACHE:\n",
    "            PYMORPHY_CACHE[word_hash] = get_lemmatizer().parse(word)[0].normal_form            \n",
    "        yield PYMORPHY_CACHE[word_hash]\n",
    "        \n",
    "import nltk\n",
    "nltk.download(\"stopwords\")\n",
    "#--------#\n",
    "\n",
    "from nltk.corpus import stopwords\n",
    "from pymystem3 import Mystem\n",
    "from string import punctuation\n",
    "\n",
    "#Create lemmatizer and stopwords list\n",
    "mystem = Mystem() \n",
    "russian_stopwords = stopwords.words(\"russian\")\n",
    "\n",
    "#Preprocess function\n",
    "def preprocess_text(text):\n",
    "    tokens = mystem.lemmatize(text.lower())\n",
    "    tokens = [token for token in tokens if token not in russian_stopwords\\\n",
    "              and token != \" \" \\\n",
    "              and token.strip() not in punctuation]\n",
    "    text = \" \".join(tokens)\n",
    "    return text"
   ]
  },
  {
   "cell_type": "markdown",
   "metadata": {},
   "source": [
    "#### Основная функция, которая вызывается для преобразования html в список слов"
   ]
  },
  {
   "cell_type": "code",
   "execution_count": 972,
   "metadata": {},
   "outputs": [],
   "source": [
    "def html2word(raw_html, to_text=html2text, tokenizer=preprocess_text):\n",
    "    return tokenizer(to_text(raw_html).lower())\n",
    "\n",
    "def html2word1(raw_html, to_text=html2text, tokenizer=pymorphy_tokenizer):\n",
    "    return tokenizer(to_text(raw_html).lower())"
   ]
  },
  {
   "cell_type": "markdown",
   "metadata": {},
   "source": [
    "#### Рассчет финальных метрик"
   ]
  },
  {
   "cell_type": "code",
   "execution_count": 973,
   "metadata": {},
   "outputs": [],
   "source": [
    "def safe_divide(a, b):\n",
    "    if a == 0: return 0.0\n",
    "    elif b == 0: return 0.0\n",
    "    else: return a/b\n",
    "\n",
    "def calculate_metrics(predictions, threshold):    \n",
    "    \"\"\"\n",
    "    Функция подсчета метрик\n",
    "    Параметры\n",
    "    predictions - ранки по документам\n",
    "    threshold  - порог для метрик\n",
    "    \"\"\"\n",
    "    true_positive = 0\n",
    "    false_positive = 0\n",
    "    true_negative = 0\n",
    "    false_negative = 0\n",
    "    for (url_id, mark, url, prediction) in predictions:        \n",
    "        mark_predict = prediction > threshold\n",
    "\n",
    "        if mark_predict:                     \n",
    "            if mark_predict == mark: true_positive += 1\n",
    "            else: false_positive += 1                    \n",
    "        else:                     \n",
    "            if  mark_predict == mark: true_negative += 1\n",
    "            else: false_negative += 1\n",
    "\n",
    "    class_prec  = safe_divide(true_positive, true_positive + false_positive)\n",
    "    class_recall = safe_divide(true_positive, true_positive + false_negative)\n",
    "        \n",
    "    class_F1 = safe_divide(2 * class_prec * class_recall, class_prec + class_recall)\n",
    "    \n",
    "    \n",
    "    not_class_prec = safe_divide(true_negative, true_negative + false_negative)\n",
    "    not_class_recall = safe_divide(true_negative, true_negative + false_positive)\n",
    "    \n",
    "    not_class_F1 = safe_divide(2 * not_class_prec * not_class_recall, not_class_prec + not_class_recall)\n",
    "    \n",
    "    return ( (class_prec, class_recall, class_F1), (not_class_prec, not_class_recall, not_class_F1) )\n",
    "\n",
    "def arange(start, stop, step):\n",
    "    cur_value = start\n",
    "    while True:\n",
    "        if cur_value > stop: break\n",
    "        yield cur_value\n",
    "        cur_value += step\n",
    "\n",
    "def plot_results(docs, min_threshold=-1, max_threshold=1, step=0.1, trace=False):\n",
    "    x = []\n",
    "    y_p = []\n",
    "    y_n = []\n",
    "    docs_predictions = classifier.predict_all(docs)\n",
    "    for threshold in arange(min_threshold, max_threshold, step):\n",
    "        r = calculate_metrics(docs_predictions, threshold)\n",
    "        x.append(threshold)\n",
    "        y_p.append(r[0])\n",
    "        y_n.append(r[1])        \n",
    "        if trace: \n",
    "            print('threshold %s' % threshold)\n",
    "            print('\\tclass_prec %s, class_recall %s, class_F1 %s' % r[0])\n",
    "            print('\\tnot_class_prec %s, not_class_recall %s, not_class_F1 %s' % r[1])\n",
    "            print('\\t\\tMacroF1Mesure %s' % ((r[0][2] + r[1][2])/2))\n",
    "    plot_stats(x, y_p, \"Class Result\")\n",
    "    plot_stats(x, y_n, \"Not class Result\")    \n",
    "\n",
    "\n",
    "def plot_stats(x, y, title):\n",
    "    plt.figure(figsize=(10, 5))\n",
    "\n",
    "    prec, = plt.plot( x, \n",
    "                     [k[0] for k in y], \"r\", label='Precision', \n",
    "                     linewidth=1)\n",
    "    accur, = plt.plot( x, \n",
    "                      [k[1] for k in y], \"b\", label='Recall',\n",
    "                      linewidth=1)\n",
    "    f1, =    plt.plot( x, \n",
    "                      [k[2] for k in y], \"g\", label='F1',\n",
    "                      linewidth=1)\n",
    "    plt.grid(True)\n",
    "    plt.legend(handles=[prec, accur, f1])\n",
    "    plt.title(title)\n",
    "    plt.show()"
   ]
  },
  {
   "cell_type": "code",
   "execution_count": 182,
   "metadata": {},
   "outputs": [
    {
     "name": "stderr",
     "output_type": "stream",
     "text": [
      "14:24:29 INFO:Complete items 00000\n",
      "14:27:46 INFO:Complete items 01000\n",
      "14:29:02 INFO:Complete items 02000\n",
      "14:31:12 INFO:Complete items 03000\n",
      "14:35:14 INFO:Complete items 04000\n",
      "14:38:36 INFO:Complete items 05000\n",
      "14:40:15 INFO:Complete items 06000\n",
      "14:46:12 INFO:Complete items 07000\n",
      "14:46:15 INFO:Complete items 07043\n"
     ]
    }
   ],
   "source": [
    "rus_docs = []\n",
    "htmls = []\n",
    "input_file_name = 'kaggle_train_data_tab.csv'\n",
    "\n",
    "global LAST_HTML\n",
    "with gzip.open(input_file_name, mode='rt', encoding='utf8') if input_file_name.endswith('gz') else open(input_file_name, mode='rt', encoding='utf8')  as input_file:            \n",
    "    headers = input_file.readline()\n",
    "    for i, line in enumerate(input_file):\n",
    "        trace(i)\n",
    "        parts = line.strip().split('\\t')\n",
    "        pageInb64 = parts[3]\n",
    "        html_data = base64.b64decode(pageInb64)\n",
    "        try:\n",
    "            html_data = html_data.decode('utf8')\n",
    "        except:\n",
    "            html_data = html_data.decode('latin1')\n",
    "        htmls.append(html_data)\n",
    "        rus_docs.append(html2word(html_data))\n",
    "    trace(i, 1)"
   ]
  },
  {
   "cell_type": "code",
   "execution_count": 11,
   "metadata": {},
   "outputs": [
    {
     "data": {
      "text/plain": [
       "7044"
      ]
     },
     "execution_count": 11,
     "metadata": {},
     "output_type": "execute_result"
    }
   ],
   "source": [
    "len(htmls)"
   ]
  },
  {
   "cell_type": "code",
   "execution_count": null,
   "metadata": {},
   "outputs": [],
   "source": [
    "from sklearn.feature_extraction.text import TfidfVectorizer"
   ]
  },
  {
   "cell_type": "code",
   "execution_count": 1146,
   "metadata": {},
   "outputs": [],
   "source": [
    "tfidf_vec = TfidfVectorizer(min_df=0.001)\n",
    "doc_matrix_html = tfidf_vec.fit_transform(htmls)"
   ]
  },
  {
   "cell_type": "code",
   "execution_count": 206,
   "metadata": {},
   "outputs": [
    {
     "data": {
      "text/plain": [
       "(7044, 92876)"
      ]
     },
     "execution_count": 206,
     "metadata": {},
     "output_type": "execute_result"
    }
   ],
   "source": [
    "doc_matrix_html.shape"
   ]
  },
  {
   "cell_type": "code",
   "execution_count": 1147,
   "metadata": {},
   "outputs": [],
   "source": [
    "tfidf_vec_rus = TfidfVectorizer(min_df=0.001)\n",
    "doc_matrix_html_rus = tfidf_vec_rus.fit_transform(rus_docs)"
   ]
  },
  {
   "cell_type": "code",
   "execution_count": 505,
   "metadata": {},
   "outputs": [
    {
     "data": {
      "text/plain": [
       "(7044, 44882)"
      ]
     },
     "execution_count": 505,
     "metadata": {},
     "output_type": "execute_result"
    }
   ],
   "source": [
    "doc_matrix_html_rus.shape"
   ]
  },
  {
   "cell_type": "code",
   "execution_count": 1001,
   "metadata": {},
   "outputs": [],
   "source": [
    "import bz2\n",
    "import numpy as np\n",
    "\n",
    "def calc_features(url, html_data, i):\n",
    "    words = list(html2word1(html_data))\n",
    "    words_num = len(words)\n",
    "    avg_word_len = np.mean(np.array([len(word) for word in words]))\n",
    "    title_words = re.search(r'(?<=\\<title>)(.*?)(?=\\</title>)', html_data)\n",
    "    title_words_num = 0\n",
    "    if title_words:\n",
    "        title_words = title_words.group(1).split(' ')\n",
    "        title_words_num = len([word for word in title_words if len(word)])\n",
    "    anchor_words = re.search(r'(?<=\\<body>)(.*?)(?=\\</a>)', html_data)\n",
    "    anchor_words_num = 0\n",
    "    if anchor_words:\n",
    "        anchor_words = anchor_words.group(1).split(' ')\n",
    "        anchor_words_num = len([word for word in anchor_words if len(word)])\n",
    "    keywords = re.search(r'(?<=\\\"[Kk]eywords\" content=\")(.*?)(?=\\\")', html_data)\n",
    "    keys = None\n",
    "    if keywords:\n",
    "        keys = keywords.group(1).split(' ')\n",
    "        keywords = preprocess_text(\" \".join([word for word in keys if len(word)]))\n",
    "    html = str.encode(html_data)\n",
    "    comp_html = bz2.compress(html)\n",
    "    after = len(comp_html)\n",
    "    before = len(html)\n",
    "    compression_level1 = before / after\n",
    "    comp_html = gzip.compress(html)\n",
    "    after = len(comp_html)\n",
    "    before = len(html)\n",
    "    compression_level2 = before / after\n",
    "    \n",
    "    return [len(words), avg_word_len, title_words_num, anchor_words_num, \n",
    "            compression_level2, keywords, keys, title_words, anchor_words, compression_level1]"
   ]
  },
  {
   "cell_type": "code",
   "execution_count": 975,
   "metadata": {},
   "outputs": [],
   "source": [
    "from multiprocessing import Process, Queue\n",
    "\n",
    "DocItem = namedtuple('DocItem', ['doc_id', 'is_spam', 'url', 'features'])\n",
    "\n",
    "WORKER_NUM = 4\n",
    "\n",
    "def load_csv(input_file_name, calc_features_f):    \n",
    "    \"\"\"\n",
    "    Загружаем данные и извлекаем на лету признаки\n",
    "    Сам контент не сохраняется, чтобы уменьшить потребление памяти - чтобы\n",
    "    можно было запускать даже на ноутбуках в классе\n",
    "    \"\"\"\n",
    "    global LAST_HTML\n",
    "    with gzip.open(input_file_name, mode='rt', encoding='utf8') if input_file_name.endswith('gz') else open(input_file_name, mode='rt', encoding='utf8')  as input_file:            \n",
    "        headers = input_file.readline()\n",
    "        \n",
    "        for i, line in enumerate(input_file):\n",
    "            trace(i)\n",
    "            parts = line.strip().split('\\t')\n",
    "            url_id = int(parts[0])                                        \n",
    "            mark = bool(int(parts[1]))                    \n",
    "            url = parts[2]\n",
    "            pageInb64 = parts[3]\n",
    "            html_data = base64.b64decode(pageInb64)\n",
    "            try:\n",
    "                html_data = html_data.decode('utf8')\n",
    "            except:\n",
    "                html_data = html_data.decode('latin1')\n",
    "            features = calc_features_f(url, html_data, i)            \n",
    "            yield DocItem(url_id, mark, url, features)\n",
    "                \n",
    "        trace(i, 1)  \n",
    "        \n",
    "def load_csv_worker(input_file_name, calc_features_f, worker_id, res_queue):    \n",
    "    with gzip.open(input_file_name,  mode='rt', encoding='utf8') if input_file_name.endswith('gz') else open(input_file_name, mode='rt', encoding='utf8')  as input_file:            \n",
    "        headers = input_file.readline()\n",
    "        \n",
    "        for i, line in enumerate(input_file):\n",
    "            trace_worker(i, worker_id)\n",
    "            if i % WORKER_NUM != worker_id: continue\n",
    "            parts = line.strip().split('\\t')\n",
    "            url_id = int(parts[0])                                        \n",
    "            mark = bool(int(parts[1]))                    \n",
    "            url = parts[2]\n",
    "            pageInb64 = parts[3]\n",
    "            html_data = base64.b64decode(pageInb64)\n",
    "            try:\n",
    "                html_data = html_data.decode('utf8')\n",
    "            except:\n",
    "                html_data = html_data.decode('latin1')\n",
    "            features = calc_features_f(url, html_data)            \n",
    "            res_queue.put(DocItem(url_id, mark, url, features))\n",
    "                \n",
    "        trace_worker(i, worker_id, 1)  \n",
    "    res_queue.put(None)\n",
    "        \n",
    "def load_csv_multiprocess(input_file_name, calc_features_f):\n",
    "    processes = []\n",
    "    res_queue = Queue()    \n",
    "    for i in range(WORKER_NUM):\n",
    "        process = Process(target=load_csv_worker, args=(input_file_name, calc_features_f, i, res_queue))\n",
    "        processes.append(process)\n",
    "        process.start()\n",
    "    \n",
    "    complete_workers = 0\n",
    "    while complete_workers != WORKER_NUM:\n",
    "        item = res_queue.get()\n",
    "        if item is None:\n",
    "            complete_workers += 1\n",
    "        else:\n",
    "            yield item\n",
    "        \n",
    "    for process in processes: process.join()"
   ]
  },
  {
   "cell_type": "markdown",
   "metadata": {},
   "source": [
    "** Обрабатываем входной файл **\n",
    "<br>\n",
    "Формат - поля разделенные табуляциями\n",
    "<br>\n",
    "0 - идентификатор документа\n",
    "<br>\n",
    "1 - метка класса 0 - не спам, 1 - спам\n",
    "<br>\n",
    "2 - урл документа\n",
    "<br>\n",
    "3 - документ в кодировке base64\n",
    "\n",
    "Выходной формат - массив кортежей вида\n",
    "(doc_id, is_spam, url, html_data)"
   ]
  },
  {
   "cell_type": "code",
   "execution_count": 1002,
   "metadata": {
    "scrolled": false
   },
   "outputs": [
    {
     "name": "stderr",
     "output_type": "stream",
     "text": [
      "14:13:18 INFO:Complete items 00000\n",
      "14:13:40 INFO:Complete items 01000\n",
      "14:13:56 INFO:Complete items 02000\n",
      "14:14:14 INFO:Complete items 03000\n",
      "14:14:32 INFO:Complete items 04000\n",
      "14:14:58 INFO:Complete items 05000\n",
      "14:15:16 INFO:Complete items 06000\n",
      "14:15:37 INFO:Complete items 07000\n",
      "14:15:37 INFO:Complete items 07043\n"
     ]
    },
    {
     "name": "stdout",
     "output_type": "stream",
     "text": [
      "CPU times: user 2min 4s, sys: 5.97 s, total: 2min 10s\n",
      "Wall time: 2min 19s\n"
     ]
    }
   ],
   "source": [
    "%%time\n",
    "\n",
    "TRAIN_DATA_FILE  = 'kaggle_train_data_tab.csv'\n",
    "# TRAIN_DATA_FILE  = 'kaggle_train_data_tab.csv.gz'\n",
    "\n",
    "# train_docs = list(load_csv_multiprocess(TRAIN_DATA_FILE, calc_features))\n",
    "train_docs = list(load_csv(TRAIN_DATA_FILE, calc_features))\n",
    "# ololo = load_csv(TRAIN_DATA_FILE, calc_features)"
   ]
  },
  {
   "cell_type": "code",
   "execution_count": 17,
   "metadata": {},
   "outputs": [
    {
     "data": {
      "image/png": "[encoded data removed]",
      "text/plain": [
       "<Figure size 432x288 with 1 Axes>"
      ]
     },
     "metadata": {
      "needs_background": "light"
     },
     "output_type": "display_data"
    }
   ],
   "source": [
    "is_spam_data = [doc.features[0] for doc in train_docs if doc[1] == True]\n",
    "not_spam_data = [doc.features[0] for doc in train_docs if doc[1] == False]\n",
    "bins = range(0,3000,10)\n",
    "plt.hist(is_spam_data, bins=bins, color='red', density=True, alpha=0.7, label='spam')\n",
    "plt.hist(not_spam_data, bins=bins, color='blue', density=True, alpha=0.7, label='not_spam')\n",
    "plt.title('NumWords')\n",
    "plt.legend()\n",
    "plt.show()"
   ]
  },
  {
   "cell_type": "code",
   "execution_count": 57,
   "metadata": {},
   "outputs": [
    {
     "data": {
      "image/png": "[encoded data removed]",
      "text/plain": [
       "<Figure size 432x288 with 1 Axes>"
      ]
     },
     "metadata": {
      "needs_background": "light"
     },
     "output_type": "display_data"
    }
   ],
   "source": [
    "is_spam_data = [doc.features[1] for doc in train_docs if doc[1] == True]\n",
    "not_spam_data = [doc.features[1] for doc in train_docs if doc[1] == False]\n",
    "bins = 100\n",
    "plt.hist(is_spam_data, bins=bins, color='red', density=True, alpha=0.7, label='spam')\n",
    "plt.hist(not_spam_data, bins=bins, color='blue', density=True, alpha=0.7, label='not_spam')\n",
    "plt.title('AvgWordLen')\n",
    "plt.legend()\n",
    "plt.show()"
   ]
  },
  {
   "cell_type": "code",
   "execution_count": 60,
   "metadata": {},
   "outputs": [
    {
     "data": {
      "text/plain": [
       "6094"
      ]
     },
     "execution_count": 60,
     "metadata": {},
     "output_type": "execute_result"
    }
   ],
   "source": [
    "len([obj for obj in train_docs if obj.features[2]])"
   ]
  },
  {
   "cell_type": "code",
   "execution_count": 58,
   "metadata": {},
   "outputs": [
    {
     "data": {
      "image/png": "[encoded data removed]",
      "text/plain": [
       "<Figure size 432x288 with 1 Axes>"
      ]
     },
     "metadata": {
      "needs_background": "light"
     },
     "output_type": "display_data"
    }
   ],
   "source": [
    "is_spam_data = [doc.features[2] for doc in train_docs if doc[1] == True]\n",
    "not_spam_data = [doc.features[2] for doc in train_docs if doc[1] == False]\n",
    "bins = range(0, 30, 1)\n",
    "plt.hist(is_spam_data, bins=bins, color='red', density=True, alpha=0.7, label='spam')\n",
    "plt.hist(not_spam_data, bins=bins, color='blue', density=True, alpha=0.7, label='not_spam')\n",
    "plt.title('NumWordsTitle')\n",
    "plt.legend()\n",
    "plt.show()"
   ]
  },
  {
   "cell_type": "markdown",
   "metadata": {},
   "source": [
    "** Классификатор: **\n",
    "Нужно реализовать"
   ]
  },
  {
   "cell_type": "code",
   "execution_count": 17,
   "metadata": {},
   "outputs": [],
   "source": [
    "import numpy as np\n",
    "\n",
    "y = np.array([doc[1] for doc in train_docs])"
   ]
  },
  {
   "cell_type": "code",
   "execution_count": 1148,
   "metadata": {},
   "outputs": [],
   "source": [
    "from sklearn.linear_model import LogisticRegression\n",
    "import scipy\n",
    "\n",
    "features_num = 3\n",
    "\n",
    "X_feat = np.zeros((doc_matrix_html.shape[0], features_num)).astype('float')\n",
    "X_free = np.zeros((doc_matrix_html.shape[0], 1)).astype('float')\n",
    "X_down = np.zeros((doc_matrix_html.shape[0], 1)).astype('float')\n",
    "for i in range(doc_matrix_html.shape[0]):\n",
    "    X_feat[i][0] = train_docs[i].features[1]\n",
    "    X_feat[i][1] = train_docs[i].features[3]\n",
    "    X_feat[i][2] = train_docs[i].features[4]"
   ]
  },
  {
   "cell_type": "code",
   "execution_count": 993,
   "metadata": {},
   "outputs": [],
   "source": [
    "key_feat = [] # ключевые слова\n",
    "title = [] # заголовок\n",
    "anchor = [] # анкоры\n",
    "X_links = np.zeros((doc_matrix_html.shape[0], 1)) # количество ссылок\n",
    "X_unique = np.zeros((doc_matrix_html.shape[0], 1)) # количество уникальных ссылок\n",
    "X_nl = np.zeros((doc_matrix_html.shape[0], 1)) # количество сочетаний букв и цифр\n",
    "for i in range(doc_matrix_html.shape[0]):\n",
    "    X_num[i] = len(rus_docs[i].split(' '))\n",
    "    if train_docs[i].features[5] is None:\n",
    "        key_feat.append('')\n",
    "    else:\n",
    "        key_feat.append(train_docs[i].features[5])\n",
    "    if train_docs[i].features[7] is None:\n",
    "        title.append('')\n",
    "    else:\n",
    "        title.append(' '.join(train_docs[i].features[7]))\n",
    "    if train_docs[i].features[8] is None:\n",
    "        anchor.append('')\n",
    "    else:\n",
    "        anchor.append(' '.join(train_docs[i].features[8]))\n",
    "    html_words = html2text(htmls[i])\n",
    "    ix = 0\n",
    "    count = -1\n",
    "    urls = []\n",
    "    while ix != -1:\n",
    "        ix = html_words.find(\"www\", ix + 1)\n",
    "        url = html_words.find(\".\", ix + 4)\n",
    "        if ix != -1:\n",
    "            urls.append(html_words[ix + 4:url])\n",
    "        count += 1\n",
    "    X_links[i] = count\n",
    "    X_unique[i] = np.unique(np.array(urls)).size\n",
    "    for word in htmls[i].split(' '):\n",
    "        f1 = False\n",
    "        word = word.lower()\n",
    "        f2 = word.islower()\n",
    "        for letter in word:\n",
    "            if letter.isdigit():\n",
    "                f1 = True\n",
    "                break\n",
    "        if f1 & f2:\n",
    "            X_nl[i] += 1\n",
    "    \n",
    "key_tf = TfidfVectorizer()\n",
    "X_key = key_tf.fit_transform(key_feat)\n",
    "X_key_imp = X_key.max(axis=1)\n",
    "\n",
    "title_tf = TfidfVectorizer()\n",
    "X_title = title_tf.fit_transform(title)\n",
    "\n",
    "anchor_tf = TfidfVectorizer()\n",
    "X_anchor = anchor_tf.fit_transform(anchor)"
   ]
  },
  {
   "cell_type": "code",
   "execution_count": 1149,
   "metadata": {},
   "outputs": [
    {
     "data": {
      "text/plain": [
       "LogisticRegression(C=1.0, class_weight=None, dual=False, fit_intercept=True,\n",
       "                   intercept_scaling=1, l1_ratio=None, max_iter=100,\n",
       "                   multi_class='warn', n_jobs=None, penalty='l2',\n",
       "                   random_state=None, solver='warn', tol=0.0001, verbose=0,\n",
       "                   warm_start=False)"
      ]
     },
     "execution_count": 1149,
     "metadata": {},
     "output_type": "execute_result"
    }
   ],
   "source": [
    "X = scipy.sparse.hstack([X_nl, X_key, X_feat, X_links, X_unique,\n",
    "                        X_title, X_anchor, X_key_imp,\n",
    "                         doc_matrix_html_rus * 10, doc_matrix_html * 10]).tocsr()\n",
    "\n",
    "train_X = X[:int(doc_matrix_html.shape[0] * 0.3)]\n",
    "train_y = y[:int(doc_matrix_html.shape[0] * 0.3)]\n",
    "\n",
    "clf2 = LogisticRegression()\n",
    "clf2.fit(train_X, train_y)"
   ]
  },
  {
   "cell_type": "code",
   "execution_count": 915,
   "metadata": {},
   "outputs": [],
   "source": [
    "from sklearn.metrics import f1_score"
   ]
  },
  {
   "cell_type": "code",
   "execution_count": 1150,
   "metadata": {},
   "outputs": [
    {
     "data": {
      "text/plain": [
       "0.9784296807592752"
      ]
     },
     "execution_count": 1150,
     "metadata": {},
     "output_type": "execute_result"
    }
   ],
   "source": [
    "valid = X[int(doc_matrix_html.shape[0] * 0.3):]\n",
    "preds = clf2.predict(valid)\n",
    "y_val = y[int(y.shape[0] * 0.3):]\n",
    "f1_score(y_val, preds, 'weighted')"
   ]
  },
  {
   "cell_type": "code",
   "execution_count": 361,
   "metadata": {},
   "outputs": [
    {
     "name": "stderr",
     "output_type": "stream",
     "text": [
      "15:42:30 INFO:Complete items 00000\n",
      "15:45:17 INFO:Complete items 01000\n",
      "15:47:23 INFO:Complete items 02000\n",
      "15:49:14 INFO:Complete items 03000\n",
      "15:50:51 INFO:Complete items 04000\n",
      "15:52:37 INFO:Complete items 05000\n",
      "15:54:43 INFO:Complete items 06000\n",
      "15:56:16 INFO:Complete items 07000\n",
      "15:58:02 INFO:Complete items 08000\n",
      "15:59:31 INFO:Complete items 09000\n",
      "16:01:36 INFO:Complete items 10000\n",
      "16:03:03 INFO:Complete items 11000\n",
      "16:04:31 INFO:Complete items 12000\n",
      "16:05:51 INFO:Complete items 13000\n",
      "16:08:21 INFO:Complete items 14000\n",
      "16:10:04 INFO:Complete items 15000\n",
      "16:12:09 INFO:Complete items 16000\n",
      "16:12:16 INFO:Complete items 16038\n"
     ]
    }
   ],
   "source": [
    "htmls_test = []\n",
    "rus_docs_test = []\n",
    "input_file_name = 'kaggle_test_data_tab.csv'\n",
    "\n",
    "global LAST_HTML\n",
    "with gzip.open(input_file_name, mode='rt', encoding='utf8') if input_file_name.endswith('gz') else open(input_file_name, mode='rt', encoding='utf8')  as input_file:            \n",
    "    headers = input_file.readline()\n",
    "    for i, line in enumerate(input_file):\n",
    "        trace(i)\n",
    "        parts = line.strip().split('\\t')\n",
    "        pageInb64 = parts[3]\n",
    "        html_data = base64.b64decode(pageInb64)\n",
    "        try:\n",
    "            html_data = html_data.decode('utf8')\n",
    "        except:\n",
    "            html_data = html_data.decode('latin1')\n",
    "        htmls_test.append(html_data)\n",
    "        rus_docs_test.append(html2word(html_data))\n",
    "    trace(i, 1)"
   ]
  },
  {
   "cell_type": "code",
   "execution_count": 362,
   "metadata": {},
   "outputs": [],
   "source": [
    "tf_rus = TfidfVectorizer(min_df=0.001)\n",
    "all_htmls_rus = []\n",
    "all_htmls_rus.extend(rus_docs)\n",
    "all_htmls_rus.extend(rus_docs_test)\n",
    "X_all_rus = tf_rus.fit_transform(all_htmls_rus)"
   ]
  },
  {
   "cell_type": "code",
   "execution_count": 811,
   "metadata": {},
   "outputs": [],
   "source": [
    "tf = TfidfVectorizer(min_df=0.001)\n",
    "all_htmls = []\n",
    "all_htmls.extend(htmls)\n",
    "all_htmls.extend(htmls_test)\n",
    "X_all = tf.fit_transform(all_htmls)"
   ]
  },
  {
   "cell_type": "code",
   "execution_count": 277,
   "metadata": {},
   "outputs": [
    {
     "name": "stderr",
     "output_type": "stream",
     "text": [
      "15:14:09 INFO:Complete items 00000\n",
      "15:14:32 INFO:Complete items 01000\n",
      "15:14:51 INFO:Complete items 02000\n",
      "15:15:09 INFO:Complete items 03000\n",
      "15:15:26 INFO:Complete items 04000\n",
      "15:15:41 INFO:Complete items 05000\n",
      "15:16:00 INFO:Complete items 06000\n",
      "15:16:15 INFO:Complete items 07000\n",
      "15:16:35 INFO:Complete items 08000\n",
      "15:16:51 INFO:Complete items 09000\n",
      "15:17:12 INFO:Complete items 10000\n",
      "15:17:27 INFO:Complete items 11000\n",
      "15:17:43 INFO:Complete items 12000\n",
      "15:17:57 INFO:Complete items 13000\n",
      "15:18:13 INFO:Complete items 14000\n",
      "15:18:30 INFO:Complete items 15000\n",
      "15:18:47 INFO:Complete items 16000\n",
      "15:18:48 INFO:Complete items 16038\n"
     ]
    }
   ],
   "source": [
    "TEST_DATA_FILE  = 'kaggle_test_data_tab.csv'\n",
    "test_docs = list(load_csv(TEST_DATA_FILE, calc_features))\n",
    "ids = [obj[0] for obj in test_docs]"
   ]
  },
  {
   "cell_type": "code",
   "execution_count": 1153,
   "metadata": {},
   "outputs": [],
   "source": [
    "features_num = 3\n",
    "\n",
    "X_feat_test = np.zeros((len(test_docs), features_num)).astype('float')\n",
    "for i in range(len(test_docs)):\n",
    "    X_feat_test[i][0] = test_docs[i].features[1]\n",
    "    X_feat_test[i][1] = test_docs[i].features[3]\n",
    "    X_feat_test[i][2] = test_docs[i].features[4]\n",
    "    \n",
    "X_feat_all = np.vstack([X_feat, X_feat_test])"
   ]
  },
  {
   "cell_type": "code",
   "execution_count": 1156,
   "metadata": {},
   "outputs": [],
   "source": [
    "all_keys = keys\n",
    "all_titles = title\n",
    "all_anchors = anchor\n",
    "X_links_test= np.zeros((len(test_docs), 1))\n",
    "X_unique_test = np.zeros((len(test_docs), 1))\n",
    "X_nl_test = np.zeros((len(test_docs), 1))\n",
    "\n",
    "for i in range(len(test_docs)):\n",
    "    if test_docs[i].features[5] is None:\n",
    "        all_keys.append('')\n",
    "    else:\n",
    "        all_keys.append(test_docs[i].features[5])\n",
    "    if test_docs[i].features[7] is None:\n",
    "        all_titles.append('')\n",
    "    else:\n",
    "        all_titles.append(' '.join(test_docs[i].features[7]))\n",
    "    if test_docs[i].features[8] is None:\n",
    "        all_anchors.append('')\n",
    "    else:\n",
    "        all_anchors.append(' '.join(test_docs[i].features[8]))\n",
    "    html_words = html2text(all_htmls[i + doc_matrix_html.shape[0]])\n",
    "    ix = 0\n",
    "    count = -1\n",
    "    urls = []\n",
    "    while ix != -1:\n",
    "        ix = html_words.find(\"www\", ix + 1)\n",
    "        url = html_words.find(\".\", ix + 4)\n",
    "        if ix != -1:\n",
    "            urls.append(html_words[ix + 4:url])\n",
    "        count += 1\n",
    "    X_links_test[i] = count\n",
    "    X_unique_test[i] = np.unique(np.array(urls)).size\n",
    "    for word in all_htmls[i + doc_matrix_html.shape[0]].split(' '):\n",
    "        f1 = False\n",
    "        word = word.lower()\n",
    "        f2 = word.islower()\n",
    "        for letter in word:\n",
    "            if letter.isdigit():\n",
    "                f1 = True\n",
    "                break\n",
    "        if f1 & f2:\n",
    "            X_nl_test[i] += 1\n",
    "    \n",
    "key_tf_all = TfidfVectorizer()\n",
    "X_key_all = key_tf_all.fit_transform(all_keys)\n",
    "X_key_imp_all = X_key_all.max(axis=1)\n",
    "title_tf_all = TfidfVectorizer()\n",
    "X_title_all = title_tf_all.fit_transform(all_titles)\n",
    "anchor_tf_all = TfidfVectorizer()\n",
    "X_anchor_all = anchor_tf_all.fit_transform(all_anchors)"
   ]
  },
  {
   "cell_type": "code",
   "execution_count": 1161,
   "metadata": {
    "scrolled": true
   },
   "outputs": [],
   "source": [
    "X_unique_all = np.vstack([X_unique, X_unique_test])\n",
    "X_links_all = np.vstack([X_links, X_links_test])\n",
    "X_nl_all = np.vstack([X_nl, X_nl_test])\n",
    "X1 = scipy.sparse.hstack([X_feat_all, X_key_all, X_nl_all, X_key_imp_all, X_links_all,\n",
    "                          X_unique_all, X_title_all, X_anchor_all, X_all * 10, \n",
    "                          X_all_rus * 10]).tocsr()"
   ]
  },
  {
   "cell_type": "code",
   "execution_count": 1162,
   "metadata": {},
   "outputs": [
    {
     "data": {
      "text/plain": [
       "LogisticRegression(C=1.0, class_weight=None, dual=False, fit_intercept=True,\n",
       "                   intercept_scaling=1, l1_ratio=None, max_iter=100,\n",
       "                   multi_class='warn', n_jobs=None, penalty='l2',\n",
       "                   random_state=None, solver='warn', tol=0.0001, verbose=0,\n",
       "                   warm_start=False)"
      ]
     },
     "execution_count": 1162,
     "metadata": {},
     "output_type": "execute_result"
    }
   ],
   "source": [
    "clf = LogisticRegression()\n",
    "clf.fit(X1[:doc_matrix_html.shape[0]], y)"
   ]
  },
  {
   "cell_type": "code",
   "execution_count": 1163,
   "metadata": {},
   "outputs": [],
   "source": [
    "with open('my_submission.csv', 'wt') as fout:\n",
    "    writer = csv.writer(fout)\n",
    "    writer.writerow(['Id','Prediction'])\n",
    "    preds_test = clf.predict(X1[doc_matrix_html.shape[0]:])\n",
    "    for i in range(len(ids)):\n",
    "        prediction = preds_test[i]\n",
    "        writer.writerow([ids[i], int(prediction)])"
   ]
  },
  {
   "cell_type": "code",
   "execution_count": null,
   "metadata": {},
   "outputs": [],
   "source": []
  }
 ],
 "metadata": {
  "anaconda-cloud": {},
  "kernelspec": {
   "display_name": "Python 3",
   "language": "python",
   "name": "python3"
  },
  "language_info": {
   "codemirror_mode": {
    "name": "ipython",
    "version": 3
   },
   "file_extension": ".py",
   "mimetype": "text/x-python",
   "name": "python",
   "nbconvert_exporter": "python",
   "pygments_lexer": "ipython3",
   "version": "3.8.3"
  }
 },
 "nbformat": 4,
 "nbformat_minor": 1
}
